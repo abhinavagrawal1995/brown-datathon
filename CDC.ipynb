{
  "nbformat": 4,
  "nbformat_minor": 0,
  "metadata": {
    "colab": {
      "name": "CDC.ipynb",
      "version": "0.3.2",
      "provenance": [],
      "include_colab_link": true
    },
    "kernelspec": {
      "display_name": "Python 3",
      "language": "python",
      "name": "python3"
    }
  },
  "cells": [
    {
      "cell_type": "markdown",
      "metadata": {
        "id": "view-in-github",
        "colab_type": "text"
      },
      "source": [
        "<a href=\"https://colab.research.google.com/github/abhinavagrawal1995/brown-datathon/blob/master/CDC.ipynb\" target=\"_parent\"><img src=\"https://colab.research.google.com/assets/colab-badge.svg\" alt=\"Open In Colab\"/></a>"
      ]
    },
    {
      "metadata": {
        "id": "xkLynOv2CJqp",
        "colab_type": "text"
      },
      "cell_type": "markdown",
      "source": [
        "# Brown Data Science - CDC analysis\n",
        "\n",
        "The data is encoded with one record per line, which each line having exactly the same number of characters. Each variable has a fixed starting column and fixed length, so the same variable will be found in the exact same columns across each row. \n",
        "The starting position and length of each variable can be found [here](https://www.cdc.gov/brfss/annual_data/2017/llcp_varlayout_17_onecolumn.html).\n",
        "The definition of each variable is [here](https://www.cdc.gov/brfss/annual_data/2017/pdf/codebook17_llcp-v2-508.pdf)."
      ]
    },
    {
      "metadata": {
        "id": "WTM0IXKbCJqq",
        "colab_type": "code",
        "colab": {
          "base_uri": "https://localhost:8080/",
          "height": 121
        },
        "outputId": "8d7595da-8b56-44bc-dd23-35d5b412a8a7"
      },
      "cell_type": "code",
      "source": [
        "from collections import defaultdict\n",
        "import numpy as np\n",
        "import matplotlib.pyplot as plt\n",
        "import pandas\n",
        "from google.colab import drive\n",
        "drive.mount('/content/gdrive')"
      ],
      "execution_count": 2,
      "outputs": [
        {
          "output_type": "stream",
          "text": [
            "Go to this URL in a browser: https://accounts.google.com/o/oauth2/auth?client_id=947318989803-6bn6qk8qdgf4n4g3pfee6491hc0brc4i.apps.googleusercontent.com&redirect_uri=urn%3Aietf%3Awg%3Aoauth%3A2.0%3Aoob&scope=email%20https%3A%2F%2Fwww.googleapis.com%2Fauth%2Fdocs.test%20https%3A%2F%2Fwww.googleapis.com%2Fauth%2Fdrive%20https%3A%2F%2Fwww.googleapis.com%2Fauth%2Fdrive.photos.readonly%20https%3A%2F%2Fwww.googleapis.com%2Fauth%2Fpeopleapi.readonly&response_type=code\n",
            "\n",
            "Enter your authorization code:\n",
            "··········\n",
            "Mounted at /content/gdrive\n"
          ],
          "name": "stdout"
        }
      ]
    },
    {
      "metadata": {
        "id": "DimSSj5xCJqu",
        "colab_type": "code",
        "colab": {
          "base_uri": "https://localhost:8080/",
          "height": 361
        },
        "outputId": "c7abd664-4672-4580-b3fd-8b16e51ffbf8"
      },
      "cell_type": "code",
      "source": [
        "dfmonth = defaultdict(lambda: 0)\n",
        "with open('/content/gdrive/My Drive/Brown Datathon Datasets/CDC/BRFSS2017.txt') as f:\n",
        "    for line in f:\n",
        "        val = line[63]  # The value of FMONTH for this row.\n",
        "        dfmonth[val] += 1\n",
        "    \n",
        "plt.bar( dfmonth.keys(), dfmonth.values(), color='g')\n",
        "plt.ylabel('Number of Respondents')\n",
        "plt.xlabel('value')\n",
        "plt.show()"
      ],
      "execution_count": 3,
      "outputs": [
        {
          "output_type": "display_data",
          "data": {
            "image/png": "[encoded data removed]",
            "text/plain": [
              "<Figure size 576x396 with 1 Axes>"
            ]
          },
          "metadata": {
            "tags": []
          }
        }
      ]
    },
    {
      "metadata": {
        "id": "fVQgFH2gCJqy",
        "colab_type": "code",
        "colab": {}
      },
      "cell_type": "code",
      "source": [
        "# Now let us view the variable GENHLTH. \n",
        "# The survey question asks how would you rate your general health, and the answers are as follows:\n",
        "\n",
        "\n",
        "dgenhlthlabels = {'1': 'Excellent', '2': 'Very Good', '3': 'Good', '4': 'Fair', '5': 'Poor', '7': 'Don\\'t know/Not sure', '9': 'Refused'}"
      ],
      "execution_count": 0,
      "outputs": []
    },
    {
      "metadata": {
        "id": "CX96vJEpCJq0",
        "colab_type": "code",
        "colab": {}
      },
      "cell_type": "code",
      "source": [
        "dgenhlth = defaultdict(lambda: 0)\n",
        "with open('BRFSS2017.txt') as f:\n",
        "    for line in f:\n",
        "        val = line[89]  # The value of GENHLTH for this row.\n",
        "        if val != ' ':  #  We choose to ignore values equal to the BLANK space although you may want to handle blank or missing data differently\n",
        "            dgenhlth[dgenhlthlabels[val]] += 1"
      ],
      "execution_count": 0,
      "outputs": []
    },
    {
      "metadata": {
        "id": "JKUnl3QFCJq3",
        "colab_type": "code",
        "colab": {}
      },
      "cell_type": "code",
      "source": [
        "x = []\n",
        "y = []\n",
        "for k,v in dgenhlth.items():\n",
        "    x.append(k)\n",
        "    y.append(v)"
      ],
      "execution_count": 0,
      "outputs": []
    },
    {
      "metadata": {
        "id": "RlabOAJECJq6",
        "colab_type": "code",
        "colab": {},
        "outputId": "6c7d06f7-2487-4f7f-e5b1-961f79acb0c3"
      },
      "cell_type": "code",
      "source": [
        "colors = ['yellowgreen','red','gold','lightskyblue','violet','blue','darkgreen']\n",
        "pct = 100.*y/y.sum()\n",
        "\n",
        "patches, texts = plt.pie(y, colors=colors, startangle=90, radius=1.3)\n",
        "labels = ['{0} - {1:1.2f} %'.format(i,j) for i,j in zip(x, pct)]\n",
        "\n",
        "sort_legend = True\n",
        "if sort_legend:\n",
        "    patches, labels, dummy =  zip(*sorted(zip(patches, labels, y),\n",
        "                                          key=lambda x: x[2],\n",
        "                                          reverse=True))\n",
        "\n",
        "plt.legend(patches, labels, loc='best', bbox_to_anchor=(-0.1, 1.),\n",
        "           fontsize=8)\n",
        "\n",
        "plt.show()"
      ],
      "execution_count": 0,
      "outputs": [
        {
          "output_type": "error",
          "ename": "TypeError",
          "evalue": "can't multiply sequence by non-int of type 'float'",
          "traceback": [
            "\u001b[1;31m---------------------------------------------------------------------------\u001b[0m",
            "\u001b[1;31mTypeError\u001b[0m                                 Traceback (most recent call last)",
            "\u001b[1;32m<ipython-input-11-98c0fba4b10d>\u001b[0m in \u001b[0;36m<module>\u001b[1;34m()\u001b[0m\n\u001b[0;32m      1\u001b[0m \u001b[0mcolors\u001b[0m \u001b[1;33m=\u001b[0m \u001b[1;33m[\u001b[0m\u001b[1;34m'yellowgreen'\u001b[0m\u001b[1;33m,\u001b[0m\u001b[1;34m'red'\u001b[0m\u001b[1;33m,\u001b[0m\u001b[1;34m'gold'\u001b[0m\u001b[1;33m,\u001b[0m\u001b[1;34m'lightskyblue'\u001b[0m\u001b[1;33m,\u001b[0m\u001b[1;34m'violet'\u001b[0m\u001b[1;33m,\u001b[0m\u001b[1;34m'blue'\u001b[0m\u001b[1;33m,\u001b[0m\u001b[1;34m'darkgreen'\u001b[0m\u001b[1;33m]\u001b[0m\u001b[1;33m\u001b[0m\u001b[0m\n\u001b[1;32m----> 2\u001b[1;33m \u001b[0mpct\u001b[0m \u001b[1;33m=\u001b[0m \u001b[1;36m100.\u001b[0m\u001b[1;33m*\u001b[0m\u001b[0my\u001b[0m\u001b[1;33m/\u001b[0m\u001b[0my\u001b[0m\u001b[1;33m.\u001b[0m\u001b[0msum\u001b[0m\u001b[1;33m(\u001b[0m\u001b[1;33m)\u001b[0m\u001b[1;33m\u001b[0m\u001b[0m\n\u001b[0m\u001b[0;32m      3\u001b[0m \u001b[1;33m\u001b[0m\u001b[0m\n\u001b[0;32m      4\u001b[0m \u001b[0mpatches\u001b[0m\u001b[1;33m,\u001b[0m \u001b[0mtexts\u001b[0m \u001b[1;33m=\u001b[0m \u001b[0mplt\u001b[0m\u001b[1;33m.\u001b[0m\u001b[0mpie\u001b[0m\u001b[1;33m(\u001b[0m\u001b[0my\u001b[0m\u001b[1;33m,\u001b[0m \u001b[0mcolors\u001b[0m\u001b[1;33m=\u001b[0m\u001b[0mcolors\u001b[0m\u001b[1;33m,\u001b[0m \u001b[0mstartangle\u001b[0m\u001b[1;33m=\u001b[0m\u001b[1;36m90\u001b[0m\u001b[1;33m,\u001b[0m \u001b[0mradius\u001b[0m\u001b[1;33m=\u001b[0m\u001b[1;36m1.3\u001b[0m\u001b[1;33m)\u001b[0m\u001b[1;33m\u001b[0m\u001b[0m\n\u001b[0;32m      5\u001b[0m \u001b[0mlabels\u001b[0m \u001b[1;33m=\u001b[0m \u001b[1;33m[\u001b[0m\u001b[1;34m'{0} - {1:1.2f} %'\u001b[0m\u001b[1;33m.\u001b[0m\u001b[0mformat\u001b[0m\u001b[1;33m(\u001b[0m\u001b[0mi\u001b[0m\u001b[1;33m,\u001b[0m\u001b[0mj\u001b[0m\u001b[1;33m)\u001b[0m \u001b[1;32mfor\u001b[0m \u001b[0mi\u001b[0m\u001b[1;33m,\u001b[0m\u001b[0mj\u001b[0m \u001b[1;32min\u001b[0m \u001b[0mzip\u001b[0m\u001b[1;33m(\u001b[0m\u001b[0mx\u001b[0m\u001b[1;33m,\u001b[0m \u001b[0mpct\u001b[0m\u001b[1;33m)\u001b[0m\u001b[1;33m]\u001b[0m\u001b[1;33m\u001b[0m\u001b[0m\n",
            "\u001b[1;31mTypeError\u001b[0m: can't multiply sequence by non-int of type 'float'"
          ]
        }
      ]
    }
  ]
}